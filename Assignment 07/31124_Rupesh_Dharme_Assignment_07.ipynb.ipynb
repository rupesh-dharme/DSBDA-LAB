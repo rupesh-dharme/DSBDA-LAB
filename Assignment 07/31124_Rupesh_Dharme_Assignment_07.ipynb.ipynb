{
  "cells": [
    {
      "cell_type": "markdown",
      "metadata": {
        "id": "7hsEnW3_A98S"
      },
      "source": [
        "### Importing Libraries"
      ]
    },
    {
      "cell_type": "code",
      "execution_count": 2,
      "metadata": {
        "colab": {
          "base_uri": "https://localhost:8080/"
        },
        "id": "YRTEgiUD7N3-",
        "outputId": "b3792f96-13db-4313-ba6e-b4405659d523"
      },
      "outputs": [
        {
          "name": "stderr",
          "output_type": "stream",
          "text": [
            "[nltk_data] Downloading package punkt to /home/pict/nltk_data...\n",
            "[nltk_data]   Package punkt is already up-to-date!\n",
            "[nltk_data] Downloading package stopwords to /home/pict/nltk_data...\n",
            "[nltk_data]   Package stopwords is already up-to-date!\n",
            "[nltk_data] Downloading package averaged_perceptron_tagger to\n",
            "[nltk_data]     /home/pict/nltk_data...\n",
            "[nltk_data]   Package averaged_perceptron_tagger is already up-to-\n",
            "[nltk_data]       date!\n"
          ]
        }
      ],
      "source": [
        "import pandas as pd\n",
        "from sklearn.feature_extraction.text import TfidfVectorizer\n",
        "from nltk import word_tokenize, sent_tokenize\n",
        "import nltk\n",
        "nltk.download('punkt')\n",
        "from nltk.corpus import stopwords \n",
        "nltk.download('stopwords')\n",
        "from nltk.stem import PorterStemmer\n",
        "nltk.download('averaged_perceptron_tagger')\n",
        "from nltk import pos_tag"
      ]
    },
    {
      "cell_type": "markdown",
      "metadata": {
        "id": "ZsyZX9xfBcCt"
      },
      "source": [
        "#### Implementing data preprocessing"
      ]
    },
    {
      "cell_type": "code",
      "execution_count": 3,
      "metadata": {
        "id": "5tFMRsLS7Yyt"
      },
      "outputs": [],
      "source": [
        "sent = \"Millions of people in India took part in an annual tree planting drive Sunday. More than 250 million saplings were planted in a single day across the country's most-populous state.\""
      ]
    },
    {
      "cell_type": "markdown",
      "metadata": {
        "id": "EEnS4bbFB0WB"
      },
      "source": [
        "#### Tokenization"
      ]
    },
    {
      "cell_type": "code",
      "execution_count": 4,
      "metadata": {
        "colab": {
          "base_uri": "https://localhost:8080/"
        },
        "id": "FQPtoc2W7lYq",
        "outputId": "1d538697-69f1-43ba-a95c-6251e1eec8ad"
      },
      "outputs": [
        {
          "name": "stdout",
          "output_type": "stream",
          "text": [
            "['Millions', 'of', 'people', 'in', 'India', 'took', 'part', 'in', 'an', 'annual', 'tree', 'planting', 'drive', 'Sunday', '.', 'More', 'than', '250', 'million', 'saplings', 'were', 'planted', 'in', 'a', 'single', 'day', 'across', 'the', 'country', \"'s\", 'most-populous', 'state', '.']\n"
          ]
        }
      ],
      "source": [
        "print(word_tokenize(sent))"
      ]
    },
    {
      "cell_type": "code",
      "execution_count": 5,
      "metadata": {
        "colab": {
          "base_uri": "https://localhost:8080/"
        },
        "id": "CxF1WCsq7pfD",
        "outputId": "e6e93a85-bcef-4d14-db03-e687c549cf0d"
      },
      "outputs": [
        {
          "name": "stdout",
          "output_type": "stream",
          "text": [
            "['Millions of people in India took part in an annual tree planting drive Sunday.', \"More than 250 million saplings were planted in a single day across the country's most-populous state.\"]\n"
          ]
        }
      ],
      "source": [
        "print(sent_tokenize(sent))"
      ]
    },
    {
      "cell_type": "markdown",
      "metadata": {
        "id": "dJyl8KnwB3jr"
      },
      "source": [
        "#### Stopwards"
      ]
    },
    {
      "cell_type": "code",
      "execution_count": 31,
      "metadata": {
        "id": "UU7hkpTX8BCv"
      },
      "outputs": [
        {
          "name": "stdout",
          "output_type": "stream",
          "text": [
            "['i', 'me', 'my', 'myself', 'we', 'our', 'ours', 'ourselves', 'you', \"you're\", \"you've\", \"you'll\", \"you'd\", 'your', 'yours', 'yourself', 'yourselves', 'he', 'him', 'his', 'himself', 'she', \"she's\", 'her', 'hers', 'herself', 'it', \"it's\", 'its', 'itself', 'they', 'them', 'their', 'theirs', 'themselves', 'what', 'which', 'who', 'whom', 'this', 'that', \"that'll\", 'these', 'those', 'am', 'is', 'are', 'was', 'were', 'be', 'been', 'being', 'have', 'has', 'had', 'having', 'do', 'does', 'did', 'doing', 'a', 'an', 'the', 'and', 'but', 'if', 'or', 'because', 'as', 'until', 'while', 'of', 'at', 'by', 'for', 'with', 'about', 'against', 'between', 'into', 'through', 'during', 'before', 'after', 'above', 'below', 'to', 'from', 'up', 'down', 'in', 'out', 'on', 'off', 'over', 'under', 'again', 'further', 'then', 'once', 'here', 'there', 'when', 'where', 'why', 'how', 'all', 'any', 'both', 'each', 'few', 'more', 'most', 'other', 'some', 'such', 'no', 'nor', 'not', 'only', 'own', 'same', 'so', 'than', 'too', 'very', 's', 't', 'can', 'will', 'just', 'don', \"don't\", 'should', \"should've\", 'now', 'd', 'll', 'm', 'o', 're', 've', 'y', 'ain', 'aren', \"aren't\", 'couldn', \"couldn't\", 'didn', \"didn't\", 'doesn', \"doesn't\", 'hadn', \"hadn't\", 'hasn', \"hasn't\", 'haven', \"haven't\", 'isn', \"isn't\", 'ma', 'mightn', \"mightn't\", 'mustn', \"mustn't\", 'needn', \"needn't\", 'shan', \"shan't\", 'shouldn', \"shouldn't\", 'wasn', \"wasn't\", 'weren', \"weren't\", 'won', \"won't\", 'wouldn', \"wouldn't\"]\n"
          ]
        }
      ],
      "source": [
        "stop_words = stopwords.words('english')\n",
        "print(stop_words)"
      ]
    },
    {
      "cell_type": "code",
      "execution_count": 7,
      "metadata": {
        "colab": {
          "base_uri": "https://localhost:8080/"
        },
        "id": "4o9vOXQ98EPV",
        "outputId": "f91b2c00-4971-4c3a-8381-1fc59771b372"
      },
      "outputs": [
        {
          "name": "stdout",
          "output_type": "stream",
          "text": [
            "This is the unclean version: ['Millions', 'of', 'people', 'in', 'India', 'took', 'part', 'in', 'an', 'annual', 'tree', 'planting', 'drive', 'Sunday', '.', 'More', 'than', '250', 'million', 'saplings', 'were', 'planted', 'in', 'a', 'single', 'day', 'across', 'the', 'country', \"'s\", 'most-populous', 'state', '.']\n",
            "This is the cleaned version: ['Millions', 'people', 'India', 'took', 'part', 'annual', 'tree', 'planting', 'drive', 'Sunday', '.', 'More', '250', 'million', 'saplings', 'planted', 'single', 'day', 'across', 'country', \"'s\", 'most-populous', 'state', '.']\n"
          ]
        }
      ],
      "source": [
        "cleaned_token = []\n",
        "token = word_tokenize(sent)\n",
        "for word in token:\n",
        "    if word not in stop_words:\n",
        "        cleaned_token.append(word)\n",
        "print(\"This is the unclean version:\", token)\n",
        "print(\"This is the cleaned version:\", cleaned_token)"
      ]
    },
    {
      "cell_type": "markdown",
      "metadata": {
        "id": "5LyMKFFoB816"
      },
      "source": [
        "Stemming"
      ]
    },
    {
      "cell_type": "code",
      "execution_count": 8,
      "metadata": {
        "colab": {
          "base_uri": "https://localhost:8080/"
        },
        "id": "tfJ6A3Lu8McB",
        "outputId": "76cc51be-9fbd-4aec-82ed-35f58557715b"
      },
      "outputs": [
        {
          "name": "stdout",
          "output_type": "stream",
          "text": [
            "['plant', 'plant', 'plant', 'plant']\n"
          ]
        }
      ],
      "source": [
        "\n",
        "stemmer = PorterStemmer()\n",
        "words = ['plant', 'planting', 'plants', 'planted']\n",
        "stemmed = [stemmer.stem(word) for word in words]\n",
        "print(stemmed)"
      ]
    },
    {
      "cell_type": "code",
      "execution_count": 9,
      "metadata": {
        "colab": {
          "base_uri": "https://localhost:8080/"
        },
        "id": "fnFwTXB88oB3",
        "outputId": "231f03b9-c36b-45fc-f6f1-8b94b2f1bcf4"
      },
      "outputs": [
        {
          "name": "stdout",
          "output_type": "stream",
          "text": [
            "million of peopl in india took part in an annual tree plant drive sunday . more than 250 million sapl were plant in a singl day across the countri 's most-popul state . \n"
          ]
        }
      ],
      "source": [
        "token = word_tokenize(sent)\n",
        "stemmed = \"\"\n",
        "for word in token:\n",
        "    stemmed += stemmer.stem(word) + \" \"\n",
        "print(stemmed)"
      ]
    },
    {
      "cell_type": "code",
      "execution_count": 10,
      "metadata": {
        "id": "4Xa-NAf486JD"
      },
      "outputs": [],
      "source": [
        "\n",
        "sent2 = \"The campaign was led by Uttar Pradesh state government officials, lawmakers, and activists, in a bid to reduce carbon emissions and combat climate change\""
      ]
    },
    {
      "cell_type": "code",
      "execution_count": 11,
      "metadata": {
        "colab": {
          "base_uri": "https://localhost:8080/"
        },
        "id": "reZxor9b-Gaz",
        "outputId": "e5595428-7d5c-4064-a1ec-7b74bed1c74c"
      },
      "outputs": [
        {
          "name": "stdout",
          "output_type": "stream",
          "text": [
            "['The', 'campaign', 'was', 'led', 'by', 'Uttar', 'Pradesh', 'state', 'government', 'officials', ',', 'lawmakers', ',', 'and', 'activists', ',', 'in', 'a', 'bid', 'to', 'reduce', 'carbon', 'emissions', 'and', 'combat', 'climate', 'change']\n"
          ]
        }
      ],
      "source": [
        "print(word_tokenize(sent2))"
      ]
    },
    {
      "cell_type": "code",
      "execution_count": 12,
      "metadata": {
        "colab": {
          "base_uri": "https://localhost:8080/"
        },
        "id": "8cPIsXlY-LMT",
        "outputId": "3b382b71-0531-41d7-92de-faeddeefce17"
      },
      "outputs": [
        {
          "name": "stdout",
          "output_type": "stream",
          "text": [
            "['The campaign was led by Uttar Pradesh state government officials, lawmakers, and activists, in a bid to reduce carbon emissions and combat climate change']\n"
          ]
        }
      ],
      "source": [
        "print(sent_tokenize(sent2))"
      ]
    },
    {
      "cell_type": "code",
      "execution_count": 13,
      "metadata": {
        "colab": {
          "base_uri": "https://localhost:8080/"
        },
        "id": "n_jtnIpQ-Nq2",
        "outputId": "0a1e1665-798a-4bfc-9e4d-51aa60b2f548"
      },
      "outputs": [
        {
          "name": "stdout",
          "output_type": "stream",
          "text": [
            "This is the unclean version: ['The', 'campaign', 'was', 'led', 'by', 'Uttar', 'Pradesh', 'state', 'government', 'officials', ',', 'lawmakers', ',', 'and', 'activists', ',', 'in', 'a', 'bid', 'to', 'reduce', 'carbon', 'emissions', 'and', 'combat', 'climate', 'change']\n",
            "This is the cleaned version: ['The', 'campaign', 'led', 'Uttar', 'Pradesh', 'state', 'government', 'officials', ',', 'lawmakers', ',', 'activists', ',', 'bid', 'reduce', 'carbon', 'emissions', 'combat', 'climate', 'change']\n"
          ]
        }
      ],
      "source": [
        "cleaned_token = []\n",
        "token = word_tokenize(sent2)\n",
        "for word in token:\n",
        "    if word not in stop_words:\n",
        "        cleaned_token.append(word)\n",
        "print(\"This is the unclean version:\", token)\n",
        "print(\"This is the cleaned version:\", cleaned_token)"
      ]
    },
    {
      "cell_type": "code",
      "execution_count": 14,
      "metadata": {
        "colab": {
          "base_uri": "https://localhost:8080/"
        },
        "id": "DMLsr_Yy-RI6",
        "outputId": "af4223a2-9539-42b0-eef7-f641b828f0f6"
      },
      "outputs": [
        {
          "name": "stdout",
          "output_type": "stream",
          "text": [
            "the campaign wa led by uttar pradesh state govern offici , lawmak , and activist , in a bid to reduc carbon emiss and combat climat chang \n"
          ]
        }
      ],
      "source": [
        "token = word_tokenize(sent2)\n",
        "stemmed = \"\"\n",
        "for word in token:\n",
        "    stemmed += stemmer.stem(word) + \" \"\n",
        "print(stemmed)"
      ]
    },
    {
      "cell_type": "markdown",
      "metadata": {
        "id": "hNbK-y4ICDfk"
      },
      "source": [
        "#### POS_Tagging"
      ]
    },
    {
      "cell_type": "code",
      "execution_count": 15,
      "metadata": {
        "colab": {
          "base_uri": "https://localhost:8080/"
        },
        "id": "QL5pcZj2-pw7",
        "outputId": "268f348e-3555-43f7-99a3-05db1852d8d7"
      },
      "outputs": [
        {
          "name": "stdout",
          "output_type": "stream",
          "text": [
            "[('The', 'DT'), ('campaign', 'NN'), ('led', 'VBD'), ('Uttar', 'NNP'), ('Pradesh', 'NNP'), ('state', 'NN'), ('government', 'NN'), ('officials', 'NNS'), (',', ','), ('lawmakers', 'NNS'), (',', ','), ('activists', 'NNS'), (',', ','), ('bid', 'NN'), ('reduce', 'VB'), ('carbon', 'NN'), ('emissions', 'NNS'), ('combat', 'VBP'), ('climate', 'NN'), ('change', 'NN')]\n"
          ]
        }
      ],
      "source": [
        "\n",
        "token = word_tokenize(sent) + word_tokenize(sent2)\n",
        "tagged = pos_tag(cleaned_token)                 \n",
        "print(tagged)"
      ]
    },
    {
      "cell_type": "code",
      "execution_count": 16,
      "metadata": {
        "id": "i9IXrsr9-tcm"
      },
      "outputs": [],
      "source": [
        "def computeTF(wordDict, bagOfWords):\n",
        "    tfDict = {}\n",
        "    bagOfWordsCount = len(bagOfWords)\n",
        "    for word, count in wordDict.items():\n",
        "        tfDict[word] = count / float(bagOfWordsCount)\n",
        "    return tfDict"
      ]
    },
    {
      "cell_type": "code",
      "execution_count": 17,
      "metadata": {
        "id": "23QnG4-a_aDS"
      },
      "outputs": [],
      "source": [
        "bagOfWordsA = sent.split(' ')\n",
        "bagOfWordsB = sent2.split(' ')"
      ]
    },
    {
      "cell_type": "code",
      "execution_count": 18,
      "metadata": {
        "id": "O7Z4YfEA_yZ3"
      },
      "outputs": [],
      "source": [
        "uniqueWords = set(bagOfWordsA).union(set(bagOfWordsB))"
      ]
    },
    {
      "cell_type": "code",
      "execution_count": 19,
      "metadata": {
        "id": "tHwGuocf_09U"
      },
      "outputs": [],
      "source": [
        "numOfWordsA = dict.fromkeys(uniqueWords, 0)\n",
        "for word in bagOfWordsA:\n",
        "    numOfWordsA[word] += 1\n",
        "numOfWordsB = dict.fromkeys(uniqueWords, 0)\n",
        "for word in bagOfWordsB:\n",
        "    numOfWordsB[word] += 1"
      ]
    },
    {
      "cell_type": "markdown",
      "metadata": {
        "id": "WtI2zKhUCmGI"
      },
      "source": [
        "####  Term Frequency "
      ]
    },
    {
      "cell_type": "code",
      "execution_count": 20,
      "metadata": {
        "id": "mbupbsTa_2lP"
      },
      "outputs": [],
      "source": [
        "tfA = computeTF(numOfWordsA, bagOfWordsA)\n",
        "tfB = computeTF(numOfWordsB, bagOfWordsB)"
      ]
    },
    {
      "cell_type": "code",
      "execution_count": 21,
      "metadata": {
        "colab": {
          "base_uri": "https://localhost:8080/"
        },
        "id": "OIKW-Wky_5xN",
        "outputId": "9b99e7ad-edaa-4246-c3fe-d0619a453c56"
      },
      "outputs": [
        {
          "name": "stdout",
          "output_type": "stream",
          "text": [
            "{'across': 0.03333333333333333, 'planting': 0.03333333333333333, 'planted': 0.03333333333333333, 'by': 0.0, 'Pradesh': 0.0, 'Millions': 0.03333333333333333, 'in': 0.1, 'million': 0.03333333333333333, 'took': 0.03333333333333333, 'most-populous': 0.03333333333333333, 'single': 0.03333333333333333, 'annual': 0.03333333333333333, 'state.': 0.03333333333333333, 'Sunday.': 0.03333333333333333, 'bid': 0.0, 'of': 0.03333333333333333, 'More': 0.03333333333333333, 'people': 0.03333333333333333, 'the': 0.03333333333333333, 'activists,': 0.0, 'reduce': 0.0, 'officials,': 0.0, 'The': 0.0, 'were': 0.03333333333333333, 'government': 0.0, '250': 0.03333333333333333, 'campaign': 0.0, 'an': 0.03333333333333333, 'than': 0.03333333333333333, 'day': 0.03333333333333333, 'emissions': 0.0, 'climate': 0.0, 'saplings': 0.03333333333333333, 'led': 0.0, 'to': 0.0, 'was': 0.0, 'Uttar': 0.0, 'combat': 0.0, 'state': 0.0, 'change': 0.0, \"country's\": 0.03333333333333333, 'drive': 0.03333333333333333, 'tree': 0.03333333333333333, 'and': 0.0, 'part': 0.03333333333333333, 'India': 0.03333333333333333, 'carbon': 0.0, 'lawmakers,': 0.0, 'a': 0.03333333333333333}\n"
          ]
        }
      ],
      "source": [
        "print(tfA)"
      ]
    },
    {
      "cell_type": "code",
      "execution_count": 22,
      "metadata": {
        "colab": {
          "base_uri": "https://localhost:8080/"
        },
        "id": "TL4EkMFd_-h9",
        "outputId": "c83047e1-cbe3-4d89-d809-8bf3213abb06"
      },
      "outputs": [
        {
          "name": "stdout",
          "output_type": "stream",
          "text": [
            "{'across': 0.0, 'planting': 0.0, 'planted': 0.0, 'by': 0.041666666666666664, 'Pradesh': 0.041666666666666664, 'Millions': 0.0, 'in': 0.041666666666666664, 'million': 0.0, 'took': 0.0, 'most-populous': 0.0, 'single': 0.0, 'annual': 0.0, 'state.': 0.0, 'Sunday.': 0.0, 'bid': 0.041666666666666664, 'of': 0.0, 'More': 0.0, 'people': 0.0, 'the': 0.0, 'activists,': 0.041666666666666664, 'reduce': 0.041666666666666664, 'officials,': 0.041666666666666664, 'The': 0.041666666666666664, 'were': 0.0, 'government': 0.041666666666666664, '250': 0.0, 'campaign': 0.041666666666666664, 'an': 0.0, 'than': 0.0, 'day': 0.0, 'emissions': 0.041666666666666664, 'climate': 0.041666666666666664, 'saplings': 0.0, 'led': 0.041666666666666664, 'to': 0.041666666666666664, 'was': 0.041666666666666664, 'Uttar': 0.041666666666666664, 'combat': 0.041666666666666664, 'state': 0.041666666666666664, 'change': 0.041666666666666664, \"country's\": 0.0, 'drive': 0.0, 'tree': 0.0, 'and': 0.08333333333333333, 'part': 0.0, 'India': 0.0, 'carbon': 0.041666666666666664, 'lawmakers,': 0.041666666666666664, 'a': 0.041666666666666664}\n"
          ]
        }
      ],
      "source": [
        "print(tfB)"
      ]
    },
    {
      "cell_type": "markdown",
      "metadata": {
        "id": "1Fi-w5YXCoxO"
      },
      "source": [
        "#### Inverse Document Frequency"
      ]
    },
    {
      "cell_type": "code",
      "execution_count": 23,
      "metadata": {
        "id": "ZGP5txSvACSq"
      },
      "outputs": [],
      "source": [
        "def computeIDF(documents):\n",
        "    import math\n",
        "    N = len(documents)\n",
        "    \n",
        "    idfDict = dict.fromkeys(documents[0].keys(), 0)\n",
        "    for document in documents:\n",
        "        for word, val in document.items():\n",
        "            if val > 0:\n",
        "                idfDict[word] += 1\n",
        "    \n",
        "    for word, val in idfDict.items():\n",
        "        idfDict[word] = math.log(N / float(val))\n",
        "    return idfDict"
      ]
    },
    {
      "cell_type": "code",
      "execution_count": 24,
      "metadata": {
        "id": "PdwWoc_vAEO7"
      },
      "outputs": [],
      "source": [
        "idfs = computeIDF([numOfWordsA, numOfWordsB])"
      ]
    },
    {
      "cell_type": "code",
      "execution_count": 25,
      "metadata": {
        "colab": {
          "base_uri": "https://localhost:8080/"
        },
        "id": "9tcD3S5JAION",
        "outputId": "68c0ff37-ae96-4c95-e165-d62f7c945492"
      },
      "outputs": [
        {
          "data": {
            "text/plain": [
              "{'across': 0.6931471805599453,\n",
              " 'planting': 0.6931471805599453,\n",
              " 'planted': 0.6931471805599453,\n",
              " 'by': 0.6931471805599453,\n",
              " 'Pradesh': 0.6931471805599453,\n",
              " 'Millions': 0.6931471805599453,\n",
              " 'in': 0.0,\n",
              " 'million': 0.6931471805599453,\n",
              " 'took': 0.6931471805599453,\n",
              " 'most-populous': 0.6931471805599453,\n",
              " 'single': 0.6931471805599453,\n",
              " 'annual': 0.6931471805599453,\n",
              " 'state.': 0.6931471805599453,\n",
              " 'Sunday.': 0.6931471805599453,\n",
              " 'bid': 0.6931471805599453,\n",
              " 'of': 0.6931471805599453,\n",
              " 'More': 0.6931471805599453,\n",
              " 'people': 0.6931471805599453,\n",
              " 'the': 0.6931471805599453,\n",
              " 'activists,': 0.6931471805599453,\n",
              " 'reduce': 0.6931471805599453,\n",
              " 'officials,': 0.6931471805599453,\n",
              " 'The': 0.6931471805599453,\n",
              " 'were': 0.6931471805599453,\n",
              " 'government': 0.6931471805599453,\n",
              " '250': 0.6931471805599453,\n",
              " 'campaign': 0.6931471805599453,\n",
              " 'an': 0.6931471805599453,\n",
              " 'than': 0.6931471805599453,\n",
              " 'day': 0.6931471805599453,\n",
              " 'emissions': 0.6931471805599453,\n",
              " 'climate': 0.6931471805599453,\n",
              " 'saplings': 0.6931471805599453,\n",
              " 'led': 0.6931471805599453,\n",
              " 'to': 0.6931471805599453,\n",
              " 'was': 0.6931471805599453,\n",
              " 'Uttar': 0.6931471805599453,\n",
              " 'combat': 0.6931471805599453,\n",
              " 'state': 0.6931471805599453,\n",
              " 'change': 0.6931471805599453,\n",
              " \"country's\": 0.6931471805599453,\n",
              " 'drive': 0.6931471805599453,\n",
              " 'tree': 0.6931471805599453,\n",
              " 'and': 0.6931471805599453,\n",
              " 'part': 0.6931471805599453,\n",
              " 'India': 0.6931471805599453,\n",
              " 'carbon': 0.6931471805599453,\n",
              " 'lawmakers,': 0.6931471805599453,\n",
              " 'a': 0.0}"
            ]
          },
          "execution_count": 25,
          "metadata": {},
          "output_type": "execute_result"
        }
      ],
      "source": [
        "idfs"
      ]
    },
    {
      "cell_type": "code",
      "execution_count": 26,
      "metadata": {
        "id": "I56XTGH-ALzX"
      },
      "outputs": [],
      "source": [
        "def computeTFIDF(tfBagOfWords, idfs):\n",
        "    tfidf = {}\n",
        "    for word, val in tfBagOfWords.items():\n",
        "        tfidf[word] = val * idfs[word]\n",
        "    return tfidf"
      ]
    },
    {
      "cell_type": "code",
      "execution_count": 27,
      "metadata": {
        "id": "ab7ITo2xHEfq"
      },
      "outputs": [],
      "source": [
        "tfidfA = computeTFIDF(tfA, idfs)\n",
        "tfidfB = computeTFIDF(tfB, idfs)\n",
        "df = pd.DataFrame([tfidfA, tfidfB])"
      ]
    },
    {
      "cell_type": "code",
      "execution_count": 28,
      "metadata": {
        "colab": {
          "base_uri": "https://localhost:8080/",
          "height": 223
        },
        "id": "jiAFFm5EHGaC",
        "outputId": "863924e8-a32d-4c3c-f60e-a49ad217032d"
      },
      "outputs": [
        {
          "data": {
            "text/html": [
              "<div>\n",
              "<style scoped>\n",
              "    .dataframe tbody tr th:only-of-type {\n",
              "        vertical-align: middle;\n",
              "    }\n",
              "\n",
              "    .dataframe tbody tr th {\n",
              "        vertical-align: top;\n",
              "    }\n",
              "\n",
              "    .dataframe thead th {\n",
              "        text-align: right;\n",
              "    }\n",
              "</style>\n",
              "<table border=\"1\" class=\"dataframe\">\n",
              "  <thead>\n",
              "    <tr style=\"text-align: right;\">\n",
              "      <th></th>\n",
              "      <th>across</th>\n",
              "      <th>planting</th>\n",
              "      <th>planted</th>\n",
              "      <th>by</th>\n",
              "      <th>Pradesh</th>\n",
              "      <th>Millions</th>\n",
              "      <th>in</th>\n",
              "      <th>million</th>\n",
              "      <th>took</th>\n",
              "      <th>most-populous</th>\n",
              "      <th>...</th>\n",
              "      <th>change</th>\n",
              "      <th>country's</th>\n",
              "      <th>drive</th>\n",
              "      <th>tree</th>\n",
              "      <th>and</th>\n",
              "      <th>part</th>\n",
              "      <th>India</th>\n",
              "      <th>carbon</th>\n",
              "      <th>lawmakers,</th>\n",
              "      <th>a</th>\n",
              "    </tr>\n",
              "  </thead>\n",
              "  <tbody>\n",
              "    <tr>\n",
              "      <th>0</th>\n",
              "      <td>0.023105</td>\n",
              "      <td>0.023105</td>\n",
              "      <td>0.023105</td>\n",
              "      <td>0.000000</td>\n",
              "      <td>0.000000</td>\n",
              "      <td>0.023105</td>\n",
              "      <td>0.0</td>\n",
              "      <td>0.023105</td>\n",
              "      <td>0.023105</td>\n",
              "      <td>0.023105</td>\n",
              "      <td>...</td>\n",
              "      <td>0.000000</td>\n",
              "      <td>0.023105</td>\n",
              "      <td>0.023105</td>\n",
              "      <td>0.023105</td>\n",
              "      <td>0.000000</td>\n",
              "      <td>0.023105</td>\n",
              "      <td>0.023105</td>\n",
              "      <td>0.000000</td>\n",
              "      <td>0.000000</td>\n",
              "      <td>0.0</td>\n",
              "    </tr>\n",
              "    <tr>\n",
              "      <th>1</th>\n",
              "      <td>0.000000</td>\n",
              "      <td>0.000000</td>\n",
              "      <td>0.000000</td>\n",
              "      <td>0.028881</td>\n",
              "      <td>0.028881</td>\n",
              "      <td>0.000000</td>\n",
              "      <td>0.0</td>\n",
              "      <td>0.000000</td>\n",
              "      <td>0.000000</td>\n",
              "      <td>0.000000</td>\n",
              "      <td>...</td>\n",
              "      <td>0.028881</td>\n",
              "      <td>0.000000</td>\n",
              "      <td>0.000000</td>\n",
              "      <td>0.000000</td>\n",
              "      <td>0.057762</td>\n",
              "      <td>0.000000</td>\n",
              "      <td>0.000000</td>\n",
              "      <td>0.028881</td>\n",
              "      <td>0.028881</td>\n",
              "      <td>0.0</td>\n",
              "    </tr>\n",
              "  </tbody>\n",
              "</table>\n",
              "<p>2 rows × 49 columns</p>\n",
              "</div>"
            ],
            "text/plain": [
              "     across  planting   planted        by   Pradesh  Millions   in   million  \\\n",
              "0  0.023105  0.023105  0.023105  0.000000  0.000000  0.023105  0.0  0.023105   \n",
              "1  0.000000  0.000000  0.000000  0.028881  0.028881  0.000000  0.0  0.000000   \n",
              "\n",
              "       took  most-populous  ...    change  country's     drive      tree  \\\n",
              "0  0.023105       0.023105  ...  0.000000   0.023105  0.023105  0.023105   \n",
              "1  0.000000       0.000000  ...  0.028881   0.000000  0.000000  0.000000   \n",
              "\n",
              "        and      part     India    carbon  lawmakers,    a  \n",
              "0  0.000000  0.023105  0.023105  0.000000    0.000000  0.0  \n",
              "1  0.057762  0.000000  0.000000  0.028881    0.028881  0.0  \n",
              "\n",
              "[2 rows x 49 columns]"
            ]
          },
          "execution_count": 28,
          "metadata": {},
          "output_type": "execute_result"
        }
      ],
      "source": [
        "df"
      ]
    },
    {
      "cell_type": "code",
      "execution_count": 29,
      "metadata": {
        "colab": {
          "base_uri": "https://localhost:8080/"
        },
        "id": "H1LpN0G7HIdV",
        "outputId": "14cf01ca-48b0-4669-f15f-e10bc30e47eb"
      },
      "outputs": [
        {
          "name": "stderr",
          "output_type": "stream",
          "text": [
            "/home/pict/.local/lib/python3.8/site-packages/sklearn/utils/deprecation.py:87: FutureWarning: Function get_feature_names is deprecated; get_feature_names is deprecated in 1.0 and will be removed in 1.2. Please use get_feature_names_out instead.\n",
            "  warnings.warn(msg, category=FutureWarning)\n"
          ]
        }
      ],
      "source": [
        "vectorizer = TfidfVectorizer()\n",
        "vectors = vectorizer.fit_transform([sent, sent2])\n",
        "feature_names = vectorizer.get_feature_names()\n",
        "dense = vectors.todense()\n",
        "denselist = dense.tolist()\n",
        "df = pd.DataFrame(denselist, columns=feature_names)"
      ]
    },
    {
      "cell_type": "code",
      "execution_count": 30,
      "metadata": {
        "colab": {
          "base_uri": "https://localhost:8080/",
          "height": 205
        },
        "id": "zAAaewGtHKyh",
        "outputId": "0f8768d0-a29c-499e-b2e4-f1b3fcca59ef"
      },
      "outputs": [
        {
          "data": {
            "text/html": [
              "<div>\n",
              "<style scoped>\n",
              "    .dataframe tbody tr th:only-of-type {\n",
              "        vertical-align: middle;\n",
              "    }\n",
              "\n",
              "    .dataframe tbody tr th {\n",
              "        vertical-align: top;\n",
              "    }\n",
              "\n",
              "    .dataframe thead th {\n",
              "        text-align: right;\n",
              "    }\n",
              "</style>\n",
              "<table border=\"1\" class=\"dataframe\">\n",
              "  <thead>\n",
              "    <tr style=\"text-align: right;\">\n",
              "      <th></th>\n",
              "      <th>250</th>\n",
              "      <th>across</th>\n",
              "      <th>activists</th>\n",
              "      <th>an</th>\n",
              "      <th>and</th>\n",
              "      <th>annual</th>\n",
              "      <th>bid</th>\n",
              "      <th>by</th>\n",
              "      <th>campaign</th>\n",
              "      <th>carbon</th>\n",
              "      <th>...</th>\n",
              "      <th>state</th>\n",
              "      <th>sunday</th>\n",
              "      <th>than</th>\n",
              "      <th>the</th>\n",
              "      <th>to</th>\n",
              "      <th>took</th>\n",
              "      <th>tree</th>\n",
              "      <th>uttar</th>\n",
              "      <th>was</th>\n",
              "      <th>were</th>\n",
              "    </tr>\n",
              "  </thead>\n",
              "  <tbody>\n",
              "    <tr>\n",
              "      <th>0</th>\n",
              "      <td>0.180868</td>\n",
              "      <td>0.180868</td>\n",
              "      <td>0.000000</td>\n",
              "      <td>0.180868</td>\n",
              "      <td>0.000000</td>\n",
              "      <td>0.180868</td>\n",
              "      <td>0.000000</td>\n",
              "      <td>0.000000</td>\n",
              "      <td>0.000000</td>\n",
              "      <td>0.000000</td>\n",
              "      <td>...</td>\n",
              "      <td>0.128689</td>\n",
              "      <td>0.180868</td>\n",
              "      <td>0.180868</td>\n",
              "      <td>0.128689</td>\n",
              "      <td>0.000000</td>\n",
              "      <td>0.180868</td>\n",
              "      <td>0.180868</td>\n",
              "      <td>0.000000</td>\n",
              "      <td>0.000000</td>\n",
              "      <td>0.180868</td>\n",
              "    </tr>\n",
              "    <tr>\n",
              "      <th>1</th>\n",
              "      <td>0.000000</td>\n",
              "      <td>0.000000</td>\n",
              "      <td>0.206202</td>\n",
              "      <td>0.000000</td>\n",
              "      <td>0.412404</td>\n",
              "      <td>0.000000</td>\n",
              "      <td>0.206202</td>\n",
              "      <td>0.206202</td>\n",
              "      <td>0.206202</td>\n",
              "      <td>0.206202</td>\n",
              "      <td>...</td>\n",
              "      <td>0.146714</td>\n",
              "      <td>0.000000</td>\n",
              "      <td>0.000000</td>\n",
              "      <td>0.146714</td>\n",
              "      <td>0.206202</td>\n",
              "      <td>0.000000</td>\n",
              "      <td>0.000000</td>\n",
              "      <td>0.206202</td>\n",
              "      <td>0.206202</td>\n",
              "      <td>0.000000</td>\n",
              "    </tr>\n",
              "  </tbody>\n",
              "</table>\n",
              "<p>2 rows × 47 columns</p>\n",
              "</div>"
            ],
            "text/plain": [
              "        250    across  activists        an       and    annual       bid  \\\n",
              "0  0.180868  0.180868   0.000000  0.180868  0.000000  0.180868  0.000000   \n",
              "1  0.000000  0.000000   0.206202  0.000000  0.412404  0.000000  0.206202   \n",
              "\n",
              "         by  campaign    carbon  ...     state    sunday      than       the  \\\n",
              "0  0.000000  0.000000  0.000000  ...  0.128689  0.180868  0.180868  0.128689   \n",
              "1  0.206202  0.206202  0.206202  ...  0.146714  0.000000  0.000000  0.146714   \n",
              "\n",
              "         to      took      tree     uttar       was      were  \n",
              "0  0.000000  0.180868  0.180868  0.000000  0.000000  0.180868  \n",
              "1  0.206202  0.000000  0.000000  0.206202  0.206202  0.000000  \n",
              "\n",
              "[2 rows x 47 columns]"
            ]
          },
          "execution_count": 30,
          "metadata": {},
          "output_type": "execute_result"
        }
      ],
      "source": [
        "df"
      ]
    }
  ],
  "metadata": {
    "colab": {
      "name": "Ass7.ipynb",
      "provenance": []
    },
    "kernelspec": {
      "display_name": "Python 3",
      "name": "python3"
    },
    "language_info": {
      "codemirror_mode": {
        "name": "ipython",
        "version": 3
      },
      "file_extension": ".py",
      "mimetype": "text/x-python",
      "name": "python",
      "nbconvert_exporter": "python",
      "pygments_lexer": "ipython3",
      "version": "3.8.10"
    }
  },
  "nbformat": 4,
  "nbformat_minor": 0
}
