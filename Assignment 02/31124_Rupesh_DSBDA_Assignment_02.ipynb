{
 "cells": [
  {
   "cell_type": "markdown",
   "metadata": {},
   "source": [
    "**Rupesh Dharme** <br>\n",
    "**TE 01** <br>\n",
    "**DSBDA Lab** <br>\n",
    "**Assignment 02** <br>\n",
    "\n",
    "Data Wrangling II <br>\n",
    "Create an “Academic performance” dataset of students and perform the following operations using Python.\n"
   ]
  },
  {
   "cell_type": "code",
   "execution_count": 75,
   "metadata": {},
   "outputs": [],
   "source": [
    "import pandas as pd \n",
    "import matplotlib.pyplot as plt\n",
    "import numpy as np"
   ]
  },
  {
   "cell_type": "code",
   "execution_count": 47,
   "metadata": {},
   "outputs": [
    {
     "data": {
      "text/html": [
       "<div>\n",
       "<style scoped>\n",
       "    .dataframe tbody tr th:only-of-type {\n",
       "        vertical-align: middle;\n",
       "    }\n",
       "\n",
       "    .dataframe tbody tr th {\n",
       "        vertical-align: top;\n",
       "    }\n",
       "\n",
       "    .dataframe thead th {\n",
       "        text-align: right;\n",
       "    }\n",
       "</style>\n",
       "<table border=\"1\" class=\"dataframe\">\n",
       "  <thead>\n",
       "    <tr style=\"text-align: right;\">\n",
       "      <th></th>\n",
       "      <th>gender</th>\n",
       "      <th>race/ethnicity</th>\n",
       "      <th>parental level of education</th>\n",
       "      <th>lunch</th>\n",
       "      <th>test preparation course</th>\n",
       "      <th>math score</th>\n",
       "      <th>reading score</th>\n",
       "      <th>writing score</th>\n",
       "    </tr>\n",
       "  </thead>\n",
       "  <tbody>\n",
       "    <tr>\n",
       "      <th>0</th>\n",
       "      <td>female</td>\n",
       "      <td>group B</td>\n",
       "      <td>bachelor's degree</td>\n",
       "      <td>standard</td>\n",
       "      <td>none</td>\n",
       "      <td>72</td>\n",
       "      <td>72.0</td>\n",
       "      <td>74.0</td>\n",
       "    </tr>\n",
       "    <tr>\n",
       "      <th>1</th>\n",
       "      <td>female</td>\n",
       "      <td>group C</td>\n",
       "      <td>some college</td>\n",
       "      <td>standard</td>\n",
       "      <td>completed</td>\n",
       "      <td>69</td>\n",
       "      <td>90.0</td>\n",
       "      <td>88.0</td>\n",
       "    </tr>\n",
       "    <tr>\n",
       "      <th>2</th>\n",
       "      <td>female</td>\n",
       "      <td>group B</td>\n",
       "      <td>master's degree</td>\n",
       "      <td>standard</td>\n",
       "      <td>none</td>\n",
       "      <td>90</td>\n",
       "      <td>95.0</td>\n",
       "      <td>93.0</td>\n",
       "    </tr>\n",
       "    <tr>\n",
       "      <th>3</th>\n",
       "      <td>male</td>\n",
       "      <td>group A</td>\n",
       "      <td>associate's degree</td>\n",
       "      <td>free/reduced</td>\n",
       "      <td>none</td>\n",
       "      <td>47</td>\n",
       "      <td>57.0</td>\n",
       "      <td>44.0</td>\n",
       "    </tr>\n",
       "    <tr>\n",
       "      <th>4</th>\n",
       "      <td>male</td>\n",
       "      <td>group C</td>\n",
       "      <td>some college</td>\n",
       "      <td>standard</td>\n",
       "      <td>none</td>\n",
       "      <td>76</td>\n",
       "      <td>78.0</td>\n",
       "      <td>75.0</td>\n",
       "    </tr>\n",
       "  </tbody>\n",
       "</table>\n",
       "</div>"
      ],
      "text/plain": [
       "   gender race/ethnicity parental level of education         lunch  \\\n",
       "0  female        group B           bachelor's degree      standard   \n",
       "1  female        group C                some college      standard   \n",
       "2  female        group B             master's degree      standard   \n",
       "3    male        group A          associate's degree  free/reduced   \n",
       "4    male        group C                some college      standard   \n",
       "\n",
       "  test preparation course math score  reading score  writing score  \n",
       "0                    none         72           72.0           74.0  \n",
       "1               completed         69           90.0           88.0  \n",
       "2                    none         90           95.0           93.0  \n",
       "3                    none         47           57.0           44.0  \n",
       "4                    none         76           78.0           75.0  "
      ]
     },
     "execution_count": 47,
     "metadata": {},
     "output_type": "execute_result"
    }
   ],
   "source": [
    "df = pd.read_csv('StudentsPerformance.csv')\n",
    "df.head()"
   ]
  },
  {
   "cell_type": "code",
   "execution_count": 48,
   "metadata": {},
   "outputs": [
    {
     "data": {
      "text/plain": [
       "(1000, 8)"
      ]
     },
     "execution_count": 48,
     "metadata": {},
     "output_type": "execute_result"
    }
   ],
   "source": [
    "df.shape"
   ]
  },
  {
   "cell_type": "markdown",
   "metadata": {},
   "source": [
    "##### 1.\tScan all variables for missing values and inconsistencies. If there are missing values and/or inconsistencies, use any of the suitable techniques to deal with them."
   ]
  },
  {
   "cell_type": "code",
   "execution_count": 49,
   "metadata": {},
   "outputs": [
    {
     "data": {
      "text/plain": [
       "gender                         0\n",
       "race/ethnicity                 0\n",
       "parental level of education    0\n",
       "lunch                          0\n",
       "test preparation course        0\n",
       "math score                     8\n",
       "reading score                  6\n",
       "writing score                  9\n",
       "dtype: int64"
      ]
     },
     "execution_count": 49,
     "metadata": {},
     "output_type": "execute_result"
    }
   ],
   "source": [
    "# counting null values\n",
    "df.isnull().sum()"
   ]
  },
  {
   "cell_type": "code",
   "execution_count": 50,
   "metadata": {},
   "outputs": [
    {
     "name": "stdout",
     "output_type": "stream",
     "text": [
      "(978, 8)\n"
     ]
    },
    {
     "data": {
      "text/plain": [
       "gender                         0\n",
       "race/ethnicity                 0\n",
       "parental level of education    0\n",
       "lunch                          0\n",
       "test preparation course        0\n",
       "math score                     0\n",
       "reading score                  0\n",
       "writing score                  0\n",
       "dtype: int64"
      ]
     },
     "execution_count": 50,
     "metadata": {},
     "output_type": "execute_result"
    }
   ],
   "source": [
    "# removing rows with atleast one null value\n",
    "df.dropna(axis=0, how='any' ,inplace=True)\n",
    "print(df.shape)\n",
    "df.isnull().sum()"
   ]
  },
  {
   "cell_type": "markdown",
   "metadata": {},
   "source": [
    "The above code removed 22 rows which had atleast one null value"
   ]
  },
  {
   "cell_type": "markdown",
   "metadata": {},
   "source": [
    "##### 3.\tApply data transformations on at least one of the variables. The purpose of this transformation should be one of the following reasons: to change the scale for better understanding of the variable, to convert a non-linear relation into a linear one, or to decrease the skewness and convert the distribution into a normal distribution."
   ]
  },
  {
   "cell_type": "code",
   "execution_count": 51,
   "metadata": {},
   "outputs": [
    {
     "name": "stdout",
     "output_type": "stream",
     "text": [
      "['female' 'male']\n",
      "['group B' 'group C' 'group A' 'group D' 'group E']\n",
      "[\"bachelor's degree\" 'some college' \"master's degree\" \"associate's degree\"\n",
      " 'high school' 'some high school']\n",
      "['standard' 'free/reduced']\n",
      "['none' 'completed']\n",
      "['72' '69' '90' '47' '76' '71' '88' '40' '64' '38' '58' '65' '78' '50'\n",
      " '74' '73' '67' '62' '63' '56' '81' '57' '55' '53' '59' '66' '82' '77'\n",
      " '33' '52' '0' '79' '39' '45' '60' '61' '41' '49' '44' '30' '80' '42' '27'\n",
      " '43' '68' '85' '98' '87' '70' '54' '51' '99' '84' '75' '91' '83' '89'\n",
      " '22' '100' '96' '94' '46' '97' '48' '35' '34' '86' '92' '37' '28' '24'\n",
      " '113' '123' '?' '-89' '26' '334' '95' '36' '29' '32' '93' '19' '23' '8']\n",
      "[ 72.  90.  95.  57.  78.  83.  43.  64.  60.  54.  52.  81.  53.  75.\n",
      "  89.   9.   8.   7.   6.   3.   5.  34.  22.  11.  12.  56.  61.  73.\n",
      "  58.  65.  71.  74.  84.  55.  69.  44.  41.  85.  59.  17.  39.  80.\n",
      "  37.  63.  51.  49.  26.  68.  45.  47.  70.  86.  79.  66.  67.  91.\n",
      " 100.  76.  77.  82.  92.  93.  62.  88.  50.  28.  42.  87.  48.  46.\n",
      "  23.  38.  94.  97.  99.  31.  96.  24.  29.  40.]\n",
      "[ 74.  88.  93.  44.  75.  78.  92.  39.  67.  50.  52.  43.  73.  70.\n",
      "  58.  86.  80.  72.  55.  61.  65.  38.  79.  83.  59.  57.  54.  68.\n",
      "  66.  62.  76.  82.  48.  42.  87.  49.  10.  34.  71.  37.  56.  63.\n",
      "  41.  22.  81.  45.  36.  89.  47.  90. 100.  64.  98.  51.  40.  84.\n",
      "  69.  33.  60.  85.  91.  77.  27.  94.  53.  95.  46.  19.  35.  32.\n",
      "  96.  97. 112. 114. 455. 567.  99.  15.  30. 554.  23.]\n"
     ]
    }
   ],
   "source": [
    "# Function to print unique values in each column\n",
    "def unique_values(df, column):\n",
    "    print(df[column].unique())\n",
    "\n",
    "for column in df:\n",
    "    unique_values(df, column)"
   ]
  },
  {
   "cell_type": "code",
   "execution_count": 52,
   "metadata": {},
   "outputs": [
    {
     "data": {
      "text/html": [
       "<div>\n",
       "<style scoped>\n",
       "    .dataframe tbody tr th:only-of-type {\n",
       "        vertical-align: middle;\n",
       "    }\n",
       "\n",
       "    .dataframe tbody tr th {\n",
       "        vertical-align: top;\n",
       "    }\n",
       "\n",
       "    .dataframe thead th {\n",
       "        text-align: right;\n",
       "    }\n",
       "</style>\n",
       "<table border=\"1\" class=\"dataframe\">\n",
       "  <thead>\n",
       "    <tr style=\"text-align: right;\">\n",
       "      <th></th>\n",
       "      <th>gender</th>\n",
       "      <th>race/ethnicity</th>\n",
       "      <th>parental level of education</th>\n",
       "      <th>lunch</th>\n",
       "      <th>test preparation course</th>\n",
       "      <th>math score</th>\n",
       "      <th>reading score</th>\n",
       "      <th>writing score</th>\n",
       "    </tr>\n",
       "  </thead>\n",
       "  <tbody>\n",
       "    <tr>\n",
       "      <th>0</th>\n",
       "      <td>0</td>\n",
       "      <td>1</td>\n",
       "      <td>1</td>\n",
       "      <td>0</td>\n",
       "      <td>0</td>\n",
       "      <td>72</td>\n",
       "      <td>72.0</td>\n",
       "      <td>74.0</td>\n",
       "    </tr>\n",
       "    <tr>\n",
       "      <th>1</th>\n",
       "      <td>0</td>\n",
       "      <td>2</td>\n",
       "      <td>2</td>\n",
       "      <td>0</td>\n",
       "      <td>1</td>\n",
       "      <td>69</td>\n",
       "      <td>90.0</td>\n",
       "      <td>88.0</td>\n",
       "    </tr>\n",
       "    <tr>\n",
       "      <th>2</th>\n",
       "      <td>0</td>\n",
       "      <td>1</td>\n",
       "      <td>0</td>\n",
       "      <td>0</td>\n",
       "      <td>0</td>\n",
       "      <td>90</td>\n",
       "      <td>95.0</td>\n",
       "      <td>93.0</td>\n",
       "    </tr>\n",
       "    <tr>\n",
       "      <th>3</th>\n",
       "      <td>1</td>\n",
       "      <td>0</td>\n",
       "      <td>3</td>\n",
       "      <td>1</td>\n",
       "      <td>0</td>\n",
       "      <td>47</td>\n",
       "      <td>57.0</td>\n",
       "      <td>44.0</td>\n",
       "    </tr>\n",
       "    <tr>\n",
       "      <th>4</th>\n",
       "      <td>1</td>\n",
       "      <td>2</td>\n",
       "      <td>2</td>\n",
       "      <td>0</td>\n",
       "      <td>0</td>\n",
       "      <td>76</td>\n",
       "      <td>78.0</td>\n",
       "      <td>75.0</td>\n",
       "    </tr>\n",
       "  </tbody>\n",
       "</table>\n",
       "</div>"
      ],
      "text/plain": [
       "   gender  race/ethnicity  parental level of education  lunch  \\\n",
       "0       0               1                            1      0   \n",
       "1       0               2                            2      0   \n",
       "2       0               1                            0      0   \n",
       "3       1               0                            3      1   \n",
       "4       1               2                            2      0   \n",
       "\n",
       "   test preparation course math score  reading score  writing score  \n",
       "0                        0         72           72.0           74.0  \n",
       "1                        1         69           90.0           88.0  \n",
       "2                        0         90           95.0           93.0  \n",
       "3                        0         47           57.0           44.0  \n",
       "4                        0         76           78.0           75.0  "
      ]
     },
     "execution_count": 52,
     "metadata": {},
     "output_type": "execute_result"
    }
   ],
   "source": [
    "gender = {'female': 0, 'male': 1}\n",
    "group = {'group B': 1 , 'group C': 2 , 'group A': 0 , 'group D': 3 , 'group E': 5}\n",
    "parental_education = {\"bachelor's degree\": 1 , 'some college': 2 , \"master's degree\": 0 , \"associate's degree\": 3 ,\n",
    " 'high school': 4 , 'some high school': 5}\n",
    "lunch = {'standard': 0 , 'free/reduced': 1}\n",
    "preparation = {'none': 0 , 'completed': 1 }\n",
    "\n",
    "# replace values in gender column using gender dictionary\n",
    "df['gender'].replace(gender, inplace=True)\n",
    "df['race/ethnicity'].replace(group, inplace=True)\n",
    "df['parental level of education'].replace(parental_education, inplace=True)\n",
    "df['lunch'].replace(lunch, inplace=True)\n",
    "df['test preparation course'].replace(preparation, inplace=True)\n",
    "\n",
    "df.head()"
   ]
  },
  {
   "cell_type": "code",
   "execution_count": 53,
   "metadata": {},
   "outputs": [
    {
     "name": "stdout",
     "output_type": "stream",
     "text": [
      "0    505\n",
      "1    473\n",
      "Name: gender, dtype: int64\n",
      "2    310\n",
      "3    256\n",
      "1    186\n",
      "5    138\n",
      "0     88\n",
      "Name: race/ethnicity, dtype: int64\n",
      "2    222\n",
      "3    217\n",
      "4    191\n",
      "5    175\n",
      "1    117\n",
      "0     56\n",
      "Name: parental level of education, dtype: int64\n",
      "0    633\n",
      "1    345\n",
      "Name: lunch, dtype: int64\n",
      "0    626\n",
      "1    352\n",
      "Name: test preparation course, dtype: int64\n",
      "?     35\n",
      "65    35\n",
      "62    33\n",
      "59    31\n",
      "69    29\n",
      "      ..\n",
      "0      1\n",
      "33     1\n",
      "19     1\n",
      "23     1\n",
      "8      1\n",
      "Name: math score, Length: 85, dtype: int64\n",
      "72.0    33\n",
      "64.0    31\n",
      "67.0    30\n",
      "74.0    30\n",
      "73.0    29\n",
      "        ..\n",
      "5.0      1\n",
      "22.0     1\n",
      "11.0     1\n",
      "17.0     1\n",
      "40.0     1\n",
      "Name: reading score, Length: 80, dtype: int64\n",
      "74.0     35\n",
      "70.0     32\n",
      "68.0     30\n",
      "62.0     27\n",
      "73.0     26\n",
      "         ..\n",
      "10.0      1\n",
      "15.0      1\n",
      "30.0      1\n",
      "554.0     1\n",
      "23.0      1\n",
      "Name: writing score, Length: 81, dtype: int64\n"
     ]
    }
   ],
   "source": [
    "for column in df:\n",
    "    print(df[column].value_counts())"
   ]
  },
  {
   "cell_type": "code",
   "execution_count": 54,
   "metadata": {},
   "outputs": [
    {
     "name": "stdout",
     "output_type": "stream",
     "text": [
      "['72' '69' '90' '47' '76' '71' '88' '40' '64' '38' '58' '65' '78' '50'\n",
      " '74' '73' '67' '62' '63' '56' '81' '57' '55' '53' '59' '66' '82' '77'\n",
      " '33' '52' '0' '79' '39' '45' '60' '61' '41' '49' '44' '30' '80' '42' '27'\n",
      " '43' '68' '85' '98' '87' '70' '54' '51' '99' '84' '75' '91' '83' '89'\n",
      " '22' '100' '96' '94' '46' '97' '48' '35' '34' '86' '92' '37' '28' '24'\n",
      " '113' '123' '?' '-89' '26' '334' '95' '36' '29' '32' '93' '19' '23' '8']\n",
      "[ 72.  90.  95.  57.  78.  83.  43.  64.  60.  54.  52.  81.  53.  75.\n",
      "  89.   9.   8.   7.   6.   3.   5.  34.  22.  11.  12.  56.  61.  73.\n",
      "  58.  65.  71.  74.  84.  55.  69.  44.  41.  85.  59.  17.  39.  80.\n",
      "  37.  63.  51.  49.  26.  68.  45.  47.  70.  86.  79.  66.  67.  91.\n",
      " 100.  76.  77.  82.  92.  93.  62.  88.  50.  28.  42.  87.  48.  46.\n",
      "  23.  38.  94.  97.  99.  31.  96.  24.  29.  40.]\n",
      "[ 74.  88.  93.  44.  75.  78.  92.  39.  67.  50.  52.  43.  73.  70.\n",
      "  58.  86.  80.  72.  55.  61.  65.  38.  79.  83.  59.  57.  54.  68.\n",
      "  66.  62.  76.  82.  48.  42.  87.  49.  10.  34.  71.  37.  56.  63.\n",
      "  41.  22.  81.  45.  36.  89.  47.  90. 100.  64.  98.  51.  40.  84.\n",
      "  69.  33.  60.  85.  91.  77.  27.  94.  53.  95.  46.  19.  35.  32.\n",
      "  96.  97. 112. 114. 455. 567.  99.  15.  30. 554.  23.]\n"
     ]
    }
   ],
   "source": [
    "print(df['math score'].unique())\n",
    "print(df['reading score'].unique())\n",
    "print(df['writing score'].unique())"
   ]
  },
  {
   "cell_type": "markdown",
   "metadata": {},
   "source": [
    "Above results show that \"math score\" has some \"?\" in it which cause inconsistency also it's dtype is Object"
   ]
  },
  {
   "cell_type": "code",
   "execution_count": 55,
   "metadata": {},
   "outputs": [
    {
     "data": {
      "text/plain": [
       "array(['72', '69', '90', '47', '76', '71', '88', '40', '64', '38', '58',\n",
       "       '65', '78', '50', '74', '73', '67', '62', '63', '56', '81', '57',\n",
       "       '55', '53', '59', '66', '82', '77', '33', '52', '0', '79', '39',\n",
       "       '45', '60', '61', '41', '49', '44', '30', '80', '42', '27', '43',\n",
       "       '68', '85', '98', '87', '70', '54', '51', '99', '84', '75', '91',\n",
       "       '83', '89', '22', '100', '96', '94', '46', '97', '48', '35', '34',\n",
       "       '86', '92', '37', '28', '24', '113', '123', '-89', '26', '334',\n",
       "       '95', '36', '29', '32', '93', '19', '23', '8'], dtype=object)"
      ]
     },
     "execution_count": 55,
     "metadata": {},
     "output_type": "execute_result"
    }
   ],
   "source": [
    "df = df[df['math score'] != '?']\n",
    "df['math score'].unique()"
   ]
  },
  {
   "cell_type": "code",
   "execution_count": 56,
   "metadata": {},
   "outputs": [
    {
     "data": {
      "text/plain": [
       "(943, 8)"
      ]
     },
     "execution_count": 56,
     "metadata": {},
     "output_type": "execute_result"
    }
   ],
   "source": [
    "df.shape"
   ]
  },
  {
   "cell_type": "code",
   "execution_count": 57,
   "metadata": {},
   "outputs": [
    {
     "data": {
      "text/plain": [
       "array([ 72.,  69.,  90.,  47.,  76.,  71.,  88.,  40.,  64.,  38.,  58.,\n",
       "        65.,  78.,  50.,  74.,  73.,  67.,  62.,  63.,  56.,  81.,  57.,\n",
       "        55.,  53.,  59.,  66.,  82.,  77.,  33.,  52.,   0.,  79.,  39.,\n",
       "        45.,  60.,  61.,  41.,  49.,  44.,  30.,  80.,  42.,  27.,  43.,\n",
       "        68.,  85.,  98.,  87.,  70.,  54.,  51.,  99.,  84.,  75.,  91.,\n",
       "        83.,  89.,  22., 100.,  96.,  94.,  46.,  97.,  48.,  35.,  34.,\n",
       "        86.,  92.,  37.,  28.,  24., 113., 123., -89.,  26., 334.,  95.,\n",
       "        36.,  29.,  32.,  93.,  19.,  23.,   8.])"
      ]
     },
     "execution_count": 57,
     "metadata": {},
     "output_type": "execute_result"
    }
   ],
   "source": [
    "# convert datatype of math score and reading score to float\n",
    "df['math score'] = df['math score'].astype(float)\n",
    "df['math score'].unique()"
   ]
  },
  {
   "cell_type": "markdown",
   "metadata": {},
   "source": [
    "##### 2.\tScan all numeric variables for outliers. If there are outliers, use any of the suitable techniques to deal with them.\n"
   ]
  },
  {
   "cell_type": "code",
   "execution_count": 58,
   "metadata": {},
   "outputs": [
    {
     "data": {
      "text/plain": [
       "474    334.0\n",
       "431    123.0\n",
       "420    113.0\n",
       "149    100.0\n",
       "Name: math score, dtype: float64"
      ]
     },
     "execution_count": 58,
     "metadata": {},
     "output_type": "execute_result"
    }
   ],
   "source": [
    "df['math score'].nlargest(4)"
   ]
  },
  {
   "cell_type": "code",
   "execution_count": 59,
   "metadata": {},
   "outputs": [
    {
     "data": {
      "text/plain": [
       "<AxesSubplot:>"
      ]
     },
     "execution_count": 59,
     "metadata": {},
     "output_type": "execute_result"
    },
    {
     "data": {
      "image/png": "[encoded data removed]",
      "text/plain": [
       "<Figure size 432x288 with 1 Axes>"
      ]
     },
     "metadata": {
      "needs_background": "light"
     },
     "output_type": "display_data"
    }
   ],
   "source": [
    "# Dealing with outliers\n",
    "df['math score'].plot.box()"
   ]
  },
  {
   "cell_type": "code",
   "execution_count": 60,
   "metadata": {},
   "outputs": [
    {
     "data": {
      "text/plain": [
       "<AxesSubplot:>"
      ]
     },
     "execution_count": 60,
     "metadata": {},
     "output_type": "execute_result"
    },
    {
     "data": {
      "image/png": "[encoded data removed]",
      "text/plain": [
       "<Figure size 432x288 with 1 Axes>"
      ]
     },
     "metadata": {
      "needs_background": "light"
     },
     "output_type": "display_data"
    }
   ],
   "source": [
    "df['reading score'].plot.box()"
   ]
  },
  {
   "cell_type": "code",
   "execution_count": 61,
   "metadata": {},
   "outputs": [
    {
     "data": {
      "text/plain": [
       "<AxesSubplot:>"
      ]
     },
     "execution_count": 61,
     "metadata": {},
     "output_type": "execute_result"
    },
    {
     "data": {
      "image/png": "[encoded data removed]",
      "text/plain": [
       "<Figure size 432x288 with 1 Axes>"
      ]
     },
     "metadata": {
      "needs_background": "light"
     },
     "output_type": "display_data"
    }
   ],
   "source": [
    "df['writing score'].plot.box()"
   ]
  },
  {
   "cell_type": "code",
   "execution_count": 62,
   "metadata": {},
   "outputs": [
    {
     "data": {
      "text/plain": [
       "(912, 8)"
      ]
     },
     "execution_count": 62,
     "metadata": {},
     "output_type": "execute_result"
    }
   ],
   "source": [
    "math_IQR = df['math score'].quantile(0.75) - df['math score'].quantile(0.25)\n",
    "math_diff = math_IQR * 1.5\n",
    "math_min = df['math score'].quantile(0.25) - math_diff\n",
    "math_max = df['math score'].quantile(0.75) + math_diff\n",
    "\n",
    "reading_IQR = df['reading score'].quantile(0.75) - df['reading score'].quantile(0.25)\n",
    "reading_diff = reading_IQR * 1.5\n",
    "reading_min = df['reading score'].quantile(0.25) - reading_diff\n",
    "reading_max = df['reading score'].quantile(0.75) + reading_diff\n",
    "\n",
    "writing_IQR = df['writing score'].quantile(0.75) - df['writing score'].quantile(0.25)\n",
    "writing_diff = writing_IQR * 1.5\n",
    "writing_min = df['writing score'].quantile(0.25) - writing_diff\n",
    "writing_max = df['writing score'].quantile(0.75) + writing_diff\n",
    "\n",
    "df = df[(df['math score'] <= math_max) & (df['math score'] >= math_min)]\n",
    "df = df[(df['reading score'] <= reading_max) & (df['reading score'] >= reading_min)]\n",
    "df = df[(df['writing score'] <= writing_max) & (df['writing score'] >= writing_min)]\n",
    "df.shape"
   ]
  },
  {
   "cell_type": "code",
   "execution_count": 63,
   "metadata": {},
   "outputs": [
    {
     "data": {
      "text/plain": [
       "<AxesSubplot:>"
      ]
     },
     "execution_count": 63,
     "metadata": {},
     "output_type": "execute_result"
    },
    {
     "data": {
      "image/png": "[encoded data removed]",
      "text/plain": [
       "<Figure size 432x288 with 1 Axes>"
      ]
     },
     "metadata": {
      "needs_background": "light"
     },
     "output_type": "display_data"
    }
   ],
   "source": [
    "df['math score'].plot.box()"
   ]
  },
  {
   "cell_type": "code",
   "execution_count": 64,
   "metadata": {},
   "outputs": [
    {
     "data": {
      "text/plain": [
       "<AxesSubplot:>"
      ]
     },
     "execution_count": 64,
     "metadata": {},
     "output_type": "execute_result"
    },
    {
     "data": {
      "image/png": "[encoded data removed]",
      "text/plain": [
       "<Figure size 432x288 with 1 Axes>"
      ]
     },
     "metadata": {
      "needs_background": "light"
     },
     "output_type": "display_data"
    }
   ],
   "source": [
    "df['reading score'].plot.box()"
   ]
  },
  {
   "cell_type": "code",
   "execution_count": 65,
   "metadata": {},
   "outputs": [
    {
     "data": {
      "text/plain": [
       "<AxesSubplot:>"
      ]
     },
     "execution_count": 65,
     "metadata": {},
     "output_type": "execute_result"
    },
    {
     "data": {
      "image/png": "[encoded data removed]",
      "text/plain": [
       "<Figure size 432x288 with 1 Axes>"
      ]
     },
     "metadata": {
      "needs_background": "light"
     },
     "output_type": "display_data"
    }
   ],
   "source": [
    "df['writing score'].plot.box()"
   ]
  },
  {
   "cell_type": "code",
   "execution_count": 66,
   "metadata": {},
   "outputs": [
    {
     "data": {
      "text/html": [
       "<div>\n",
       "<style scoped>\n",
       "    .dataframe tbody tr th:only-of-type {\n",
       "        vertical-align: middle;\n",
       "    }\n",
       "\n",
       "    .dataframe tbody tr th {\n",
       "        vertical-align: top;\n",
       "    }\n",
       "\n",
       "    .dataframe thead th {\n",
       "        text-align: right;\n",
       "    }\n",
       "</style>\n",
       "<table border=\"1\" class=\"dataframe\">\n",
       "  <thead>\n",
       "    <tr style=\"text-align: right;\">\n",
       "      <th></th>\n",
       "      <th>gender</th>\n",
       "      <th>race/ethnicity</th>\n",
       "      <th>parental level of education</th>\n",
       "      <th>lunch</th>\n",
       "      <th>test preparation course</th>\n",
       "      <th>math score</th>\n",
       "      <th>reading score</th>\n",
       "      <th>writing score</th>\n",
       "    </tr>\n",
       "  </thead>\n",
       "  <tbody>\n",
       "    <tr>\n",
       "      <th>count</th>\n",
       "      <td>912.000000</td>\n",
       "      <td>912.000000</td>\n",
       "      <td>912.000000</td>\n",
       "      <td>912.000000</td>\n",
       "      <td>912.000000</td>\n",
       "      <td>912.000000</td>\n",
       "      <td>912.000000</td>\n",
       "      <td>912.000000</td>\n",
       "    </tr>\n",
       "    <tr>\n",
       "      <th>mean</th>\n",
       "      <td>0.484649</td>\n",
       "      <td>2.331140</td>\n",
       "      <td>2.899123</td>\n",
       "      <td>0.347588</td>\n",
       "      <td>0.365132</td>\n",
       "      <td>66.527412</td>\n",
       "      <td>69.559211</td>\n",
       "      <td>68.532895</td>\n",
       "    </tr>\n",
       "    <tr>\n",
       "      <th>std</th>\n",
       "      <td>0.500039</td>\n",
       "      <td>1.414212</td>\n",
       "      <td>1.463316</td>\n",
       "      <td>0.476466</td>\n",
       "      <td>0.481731</td>\n",
       "      <td>14.529327</td>\n",
       "      <td>14.135335</td>\n",
       "      <td>14.579846</td>\n",
       "    </tr>\n",
       "    <tr>\n",
       "      <th>min</th>\n",
       "      <td>0.000000</td>\n",
       "      <td>0.000000</td>\n",
       "      <td>0.000000</td>\n",
       "      <td>0.000000</td>\n",
       "      <td>0.000000</td>\n",
       "      <td>27.000000</td>\n",
       "      <td>29.000000</td>\n",
       "      <td>27.000000</td>\n",
       "    </tr>\n",
       "    <tr>\n",
       "      <th>25%</th>\n",
       "      <td>0.000000</td>\n",
       "      <td>1.000000</td>\n",
       "      <td>2.000000</td>\n",
       "      <td>0.000000</td>\n",
       "      <td>0.000000</td>\n",
       "      <td>57.000000</td>\n",
       "      <td>60.000000</td>\n",
       "      <td>58.000000</td>\n",
       "    </tr>\n",
       "    <tr>\n",
       "      <th>50%</th>\n",
       "      <td>0.000000</td>\n",
       "      <td>2.000000</td>\n",
       "      <td>3.000000</td>\n",
       "      <td>0.000000</td>\n",
       "      <td>0.000000</td>\n",
       "      <td>66.000000</td>\n",
       "      <td>70.000000</td>\n",
       "      <td>69.000000</td>\n",
       "    </tr>\n",
       "    <tr>\n",
       "      <th>75%</th>\n",
       "      <td>1.000000</td>\n",
       "      <td>3.000000</td>\n",
       "      <td>4.000000</td>\n",
       "      <td>1.000000</td>\n",
       "      <td>1.000000</td>\n",
       "      <td>77.000000</td>\n",
       "      <td>80.000000</td>\n",
       "      <td>79.000000</td>\n",
       "    </tr>\n",
       "    <tr>\n",
       "      <th>max</th>\n",
       "      <td>1.000000</td>\n",
       "      <td>5.000000</td>\n",
       "      <td>5.000000</td>\n",
       "      <td>1.000000</td>\n",
       "      <td>1.000000</td>\n",
       "      <td>100.000000</td>\n",
       "      <td>100.000000</td>\n",
       "      <td>100.000000</td>\n",
       "    </tr>\n",
       "  </tbody>\n",
       "</table>\n",
       "</div>"
      ],
      "text/plain": [
       "           gender  race/ethnicity  parental level of education       lunch  \\\n",
       "count  912.000000      912.000000                   912.000000  912.000000   \n",
       "mean     0.484649        2.331140                     2.899123    0.347588   \n",
       "std      0.500039        1.414212                     1.463316    0.476466   \n",
       "min      0.000000        0.000000                     0.000000    0.000000   \n",
       "25%      0.000000        1.000000                     2.000000    0.000000   \n",
       "50%      0.000000        2.000000                     3.000000    0.000000   \n",
       "75%      1.000000        3.000000                     4.000000    1.000000   \n",
       "max      1.000000        5.000000                     5.000000    1.000000   \n",
       "\n",
       "       test preparation course  math score  reading score  writing score  \n",
       "count               912.000000  912.000000     912.000000     912.000000  \n",
       "mean                  0.365132   66.527412      69.559211      68.532895  \n",
       "std                   0.481731   14.529327      14.135335      14.579846  \n",
       "min                   0.000000   27.000000      29.000000      27.000000  \n",
       "25%                   0.000000   57.000000      60.000000      58.000000  \n",
       "50%                   0.000000   66.000000      70.000000      69.000000  \n",
       "75%                   1.000000   77.000000      80.000000      79.000000  \n",
       "max                   1.000000  100.000000     100.000000     100.000000  "
      ]
     },
     "execution_count": 66,
     "metadata": {},
     "output_type": "execute_result"
    }
   ],
   "source": [
    "df.describe()"
   ]
  },
  {
   "cell_type": "code",
   "execution_count": 45,
   "metadata": {},
   "outputs": [
    {
     "data": {
      "text/plain": [
       "(array([ 11.,  32.,  56., 120., 169., 167., 158., 102.,  64.,  33.]),\n",
       " array([0. , 0.1, 0.2, 0.3, 0.4, 0.5, 0.6, 0.7, 0.8, 0.9, 1. ]),\n",
       " <BarContainer object of 10 artists>)"
      ]
     },
     "execution_count": 45,
     "metadata": {},
     "output_type": "execute_result"
    },
    {
     "data": {
      "image/png": "[encoded data removed]",
      "text/plain": [
       "<Figure size 432x288 with 1 Axes>"
      ]
     },
     "metadata": {
      "needs_background": "light"
     },
     "output_type": "display_data"
    }
   ],
   "source": [
    "for column in ['math score', 'reading score', 'writing score']:\n",
    "    df[column] = (df[column] - df[column].min()) / (df[column].max() - df[column].min())    \n",
    "\n",
    "plt.hist(df['math score'])"
   ]
  }
 ],
 "metadata": {
  "interpreter": {
   "hash": "c569cd2e17f62341e0f08a54f9a867c3c0d3a6f67454072d7de41a8b5dff8343"
  },
  "kernelspec": {
   "display_name": "Python 3.9.9 64-bit",
   "language": "python",
   "name": "python3"
  },
  "language_info": {
   "codemirror_mode": {
    "name": "ipython",
    "version": 3
   },
   "file_extension": ".py",
   "mimetype": "text/x-python",
   "name": "python",
   "nbconvert_exporter": "python",
   "pygments_lexer": "ipython3",
   "version": "3.9.9"
  },
  "orig_nbformat": 4
 },
 "nbformat": 4,
 "nbformat_minor": 2
}
